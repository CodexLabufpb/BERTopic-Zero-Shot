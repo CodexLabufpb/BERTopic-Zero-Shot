{
  "nbformat": 4,
  "nbformat_minor": 0,
  "metadata": {
    "colab": {
      "provenance": []
    },
    "kernelspec": {
      "name": "python3",
      "display_name": "Python 3"
    },
    "language_info": {
      "name": "python"
    }
  },
  "cells": [
    {
      "cell_type": "markdown",
      "source": [
        "# 🔍 ANÁLISE DE TÓPICOS COM BERTopic - INSTRUÇÕES\n",
        "\n",
        "Este notebook realiza análise automática de tópicos em textos usando inteligência artificial.\n",
        "Siga os passos abaixo para executar a análise:\n",
        "\n",
        "1. INSTALAR E IMPORTAR (Execute esta célula primeiro)\n",
        "2. CONFIGURAÇÕES (Enviar o seu arquivo CSV)\n",
        "3. MODELAGEM DE TÓPICOS (Análise principal)\n",
        "4. VISUALIZAÇÕES (Gráficos e resultados)\n",
        "5. EXPORTAÇÃO (Salvar resultados)\n",
        "\n",
        "Dica: Execute as células de cima pra baixo, na ordem, usando o botão ▶ ao lado de cada uma."
      ],
      "metadata": {
        "id": "Vovd_DMBJhxh"
      }
    },
    {
      "cell_type": "markdown",
      "source": [
        "# 1️⃣ INSTALAR E IMPORTAR DEPENDÊNCIAS\n",
        "\n",
        "A célula abaixo instala e importa todas as bibliotecas necessárias.\n",
        "\n",
        "✏️ O que você precisa fazer:\n",
        "- Apenas execute a célula (não precisa editar nada)\n",
        "- Espere até ver a mensagem \"Bibliotecas instaladas com sucesso!\"\n",
        "\n",
        "⏳ Tempo estimado: 1-2 minutos\n"
      ],
      "metadata": {
        "id": "Vjdjj1PyJ5t5"
      }
    },
    {
      "cell_type": "code",
      "source": [
        "# 1. Instalações e Downloads\n",
        "!pip install spacy bertopic wordcloud pandas\n",
        "!python -m spacy download pt_core_news_sm\n",
        "!python -m spacy download pt_core_news_md\n",
        "!python -m spacy download pt_core_news_lg\n",
        "\n",
        "# 1.1 Importações\n",
        "import pandas as pd\n",
        "import spacy\n",
        "from sentence_transformers import SentenceTransformer\n",
        "from bertopic import BERTopic\n",
        "from sklearn.feature_extraction.text import CountVectorizer\n",
        "from wordcloud import WordCloud, STOPWORDS\n",
        "import matplotlib.pyplot as plt\n",
        "from plotly.colors import qualitative\n",
        "\n",
        "print(\"✅ Bibliotecas instaladas e importadas com sucesso!\")"
      ],
      "metadata": {
        "id": "6Zk9Z2EiJpbJ"
      },
      "execution_count": null,
      "outputs": []
    },
    {
      "cell_type": "markdown",
      "source": [
        "**📛 REINICIAR O KERNEL SE:**  \n",
        "✔️ Células travando sem erro aparente  \n",
        "✔️ Mensagens de \"biblioteca não encontrada\"  \n",
        "✔️ Saídas inconsistentes entre execuções  \n",
        "\n",
        "**🔧 COMO REINICIAR:**  \n",
        "1. Menu: `Ambiente de execução` → `Reiniciar ambiente...`  \n",
        "2. Ou use o atalho: `Ctrl + M .` (ponto)  \n",
        "3. Execute todas as células novamente"
      ],
      "metadata": {
        "id": "OHfShyJaLcyh"
      }
    },
    {
      "cell_type": "markdown",
      "source": [
        "# 2️⃣ CONFIGURAÇÕES\n",
        "\n",
        "✏️ AJUSTE NA CÉLULA ABAIXO OS PARÂMETROS PRINCIPAIS:\n",
        "\n",
        "1. Caminho do seu arquivo .CSV\n",
        "(clique no ícone de pasta 📁 na coluna à esquerda, depois em 📤 upload,\n",
        "\n",
        "   *   Clique no ícone de pasta 📁 na coluna à esquerda;\n",
        "   *   Clique em 📤 upload;\n",
        "   *   Selecione o .CSV do seu computador, aperte Open e OK;\n",
        "   *   Clique com o botão direito no nome do arquivo e aperte em \"Copiar Caminho\";\n",
        "   *   Cole esse caminho entre as aspas na célula abaixo.\n",
        "2. Modelo de linguagem: pt_core_news_sm, pt_core_news_md e pt_core_news_lg, use md como padrão, sm para testes rápidos, lg apenas se precisar de alta precisão.\n",
        "3. Palavras que deseja ignorar na análise (stopwords), é util para melhorar a qualidade dos tópicos identificados, remover ruído, otimizar o tempo de processamento.\n",
        "4. Porcentagem de palavras muito frequentes que serão ignoradas.\n",
        "4. Nome da coluna que contém os textos a analisar (evite nomear as colunas com duas palavras separadas por espaço).\n",
        "5. Parâmetros avançados do modelo de tópicos, consulte a documentação em https://maartengr.github.io/BERTopic/api/bertopic.html (Ex.: min_topic_size: quanto menor o valor, mais tópicos são criados.)\n",
        "\n",
        "🔧 Dicas:\n",
        "- Altere apenas o que está entre aspas\n",
        "- Para adicionar várias stopwords, separe por vírgulas, exemplo: [\"palavra1\", \"palavra2\", \"palavra3\"]\n"
      ],
      "metadata": {
        "id": "liFSzrZOLufh"
      }
    },
    {
      "cell_type": "code",
      "source": [
        "# 2. #### CONFIGURÁVEIS ####\n",
        "\n",
        "# 2.1 Defina o caminho para o seu CSV no Drive\n",
        "CSV_PATH = '/content/nome-do-seu-arquivo.csv'  # ← ajuste para o seu caminho\n",
        "\n",
        "# 2.2 Modelo spaCy para tokenização e POS-tagging. # Ex.: \"pt_core_news_sm\", \"pt_core_news_md\", \"pt_core_news_lg\", \"en_core_web_sm\", etc.\n",
        "SPACY_MODEL = \"pt_core_news_md\"\n",
        "\n",
        "# 2.3 Lista de palavras adicionais que você quer **forçar** a excluir # Exemplo: [\"exemplo\", \"teste\", \"palavradescartar\"]\n",
        "CUSTOM_STOP_WORDS = [\"exemplo\", \"palavradescartar\", \"teste\", \"outrapalavra\"]\n",
        "\n",
        "# 2.4 Descarta tokens que ocorrem em mais de 70% dos documentos\n",
        "MAX_DOC_FREQ = 0.70\n",
        "\n",
        "# 2.5 Nome da coluna do DataFrame que contém o texto a ser analisado. # Exemplo: \"resenha\", \"descricao\", \"comentario\"\n",
        "TEXT_COLUMN = \"nome_da_coluna\"\n",
        "\n",
        "# 2.6 Parâmetros do BERTopic:\n",
        "#     language: para stop-words e pré-processamento (pode ser None para auto-detecção)\n",
        "#     n_gram_range: (min, max) n-gramas a considerar\n",
        "#     min_topic_size: número mínimo de documentos por tópico\n",
        "BERTOPIC_PARAMS = {\n",
        "    \"language\": \"portuguese\",        # ← personalize: \"english\", \"spanish\"…\n",
        "    \"n_gram_range\": (1, 2),          # ← personalize: (1,1) para só uni-gramas, (2,3) para bi-+tri\n",
        "    \"min_topic_size\": 5              # ← personalize: 5, 10, 20…\n",
        "}\n",
        "print(\"✅ Configurações salvas! Pode prosseguir para a próxima célula.\")"
      ],
      "metadata": {
        "id": "t0mA6SzWLsBg"
      },
      "execution_count": null,
      "outputs": []
    },
    {
      "cell_type": "code",
      "source": [
        "# 2.n Carregue o DataFrame\n",
        "df = pd.read_csv(CSV_PATH, sep=',', encoding='utf-8')\n",
        "\n",
        "# 2.n Selecione a coluna de texto que será trabalhada\n",
        "#    Certifique-se de definir TEXT_COLUMN antes (ex.: \"seu_texto\")\n",
        "texts = df[TEXT_COLUMN].dropna().astype(str).tolist()\n",
        "\n",
        "# 2.n Pronto: agora 'texts' é uma lista de strings que você pode passar ao seu pipeline\n",
        "print(f\"Carregados {len(texts)} itens da coluna '{TEXT_COLUMN}'.\")"
      ],
      "metadata": {
        "id": "MFY4-pjTT0xA"
      },
      "execution_count": null,
      "outputs": []
    },
    {
      "cell_type": "code",
      "source": [
        "# 2.n Inicializar spaCy\n",
        "nlp = spacy.load(SPACY_MODEL)\n",
        "\n",
        "# 2.n Pré-processamento\n",
        "def preprocess(text):\n",
        "    doc = nlp(text)\n",
        "    tokens = []\n",
        "    for token in doc:\n",
        "        lemma = token.lemma_.lower()\n",
        "        if token.is_alpha and not token.is_stop and lemma not in CUSTOM_STOP_WORDS:\n",
        "            tokens.append(lemma)\n",
        "    return \" \".join(tokens)\n",
        "\n",
        "docs = df[TEXT_COLUMN].dropna().astype(str).map(preprocess).tolist()\n",
        "\n",
        "# 4.3 Cria um CountVectorizer que já exclui as suas stopwords\n",
        "vectorizer_model = CountVectorizer(\n",
        "    ngram_range=BERTOPIC_PARAMS[\"n_gram_range\"], # Use the value from the dictionary\n",
        "    stop_words=CUSTOM_STOP_WORDS,\n",
        "    max_df=MAX_DOC_FREQ      # ← filtra termos super-frequentes\n",
        ")"
      ],
      "metadata": {
        "id": "DjfN9CafUDfo"
      },
      "execution_count": null,
      "outputs": []
    },
    {
      "cell_type": "markdown",
      "source": [
        "# 🌟 NUVEM DE PALAVRAS - VERIFICAÇÃO DE STOPWORDS\n",
        "\n",
        "🔍 OBJETIVO DESTA CÉLULA:\n",
        "Visualizar as palavras mais frequentes para ajudar a identificar termos irrelevantes que devem ser adicionados como stopwords.\n",
        "\n",
        "👉 COMO USAR:\n",
        "1. Execute a célula para gerar a nuvem\n",
        "2. Observe as palavras destacadas\n",
        "3. Se aparecerem termos irrelevantes:\n",
        "   - Volte à célula de CONFIGURÁVEIS\n",
        "   - Adicione-os em CUSTOM_STOP_WORDS\n",
        "   - Execute novamente as células subsequentes\n",
        "\n",
        "📌 EXEMPLOS COMUNS DE STOPWORDS A ADICIONAR:\n",
        "- Nomes de instituições\n",
        "- Termos muito genéricos\n",
        "- Palavras repetitivas do seu contexto específico"
      ],
      "metadata": {
        "id": "SpBOtt1oUlxv"
      }
    },
    {
      "cell_type": "code",
      "source": [
        "# 5 Núvem de palavras para visualizar o dataset.\n",
        "\n",
        "# 5.1 Combine todos os textos num único string\n",
        "text = \" \".join(docs)\n",
        "\n",
        "# 5.2. Monte o conjunto de stopwords (padrão + customizadas)\n",
        "stopwords = STOPWORDS.union(set(CUSTOM_STOP_WORDS))\n",
        "\n",
        "# 5.3. Gere a nuvem de palavras\n",
        "wc = WordCloud(\n",
        "    stopwords=stopwords,\n",
        "    width=800,\n",
        "    height=400,\n",
        "    background_color=\"white\"   # opcional: defina a cor de fundo\n",
        ").generate(text)\n",
        "\n",
        "# 5.4. Exiba o gráfico\n",
        "plt.figure(figsize=(12, 6))\n",
        "plt.imshow(wc, interpolation=\"bilinear\")\n",
        "plt.axis(\"off\")\n",
        "plt.show()"
      ],
      "metadata": {
        "id": "y21VI_JxUjVo"
      },
      "execution_count": null,
      "outputs": []
    },
    {
      "cell_type": "markdown",
      "source": [
        "# 3️⃣ MODELAGEM DE TÓPICOS\n",
        "\n",
        "ETAPA PRINCIPAL: Aqui o modelo irá:\n",
        "1. Analisar todos os textos\n",
        "2. Identificar padrões\n",
        "3. Agrupar em tópicos temáticos\n",
        "\n",
        "⏳ Tempo estimado: Varia conforme quantidade de textos\n",
        "   (2-10 minutos para conjuntos médios)\n",
        "\n",
        "🔍 O que será mostrado:\n",
        "- Tabela com tópicos encontrados e suas frequências\n",
        "- Palavras-chave de cada tópico\n",
        "- Amostra dos dados classificados"
      ],
      "metadata": {
        "id": "k6Z75vzB9Cnf"
      }
    },
    {
      "cell_type": "code",
      "source": [
        "# @title ⚙️ Inicialização do BERTopic\n",
        "\n",
        "# 3.1 Inicialize o BERTopic com TODAS as configurações da célula de parâmetros\n",
        "topic_model = BERTopic(\n",
        "    language=BERTOPIC_PARAMS[\"language\"],       # Usa o idioma definido nos parâmetros\n",
        "    vectorizer_model=vectorizer_model,          # Vectorizer que já criamos com MAX_DOC_FREQ\n",
        "    min_topic_size=BERTOPIC_PARAMS[\"min_topic_size\"],  # Tamanho mínimo do tópico\n",
        "    n_gram_range=BERTOPIC_PARAMS[\"n_gram_range\"]       # Faixa de n-gramas\n",
        ")\n",
        "\n",
        "# 3.2 Conferência de segurança para garantir que está usando as stopwords corretas\n",
        "print(f\"Configurações atribuídas:\")\n",
        "print(f\"- Idioma: {BERTOPIC_PARAMS['language']}\")\n",
        "print(f\"- Tamanho mínimo de tópico: {BERTOPIC_PARAMS['min_topic_size']}\")\n",
        "print(f\"- N-gram range: {BERTOPIC_PARAMS['n_gram_range']}\")\n",
        "print(f\"- Stopwords personalizadas: {CUSTOM_STOP_WORDS[:3]}... (total: {len(CUSTOM_STOP_WORDS)})\")\n",
        "print(f\" \")\n",
        "print(f\" Aguarde ...\")\n",
        "print(f\" \")\n",
        "\n",
        "# 3.3 Processamento dos documentos\n",
        "topics, probs = topic_model.fit_transform(docs)\n",
        "\n",
        "# 3.4 Armazenamento dos resultados\n",
        "df_result = df.copy()\n",
        "df_result[\"BERtopic\"] = topics\n",
        "\n",
        "print(f\"✅ Modelo de classificação aplicado com sucesso!\")"
      ],
      "metadata": {
        "id": "aSRUiTzH98Rf"
      },
      "execution_count": null,
      "outputs": []
    },
    {
      "cell_type": "code",
      "source": [
        "# @title 4️⃣ VISUALIZAÇÕES DOS TÓPICOS\n",
        "\n",
        "print(\"\\n\" + \"=\"*60)\n",
        "print(\"📋 TABELA DE TÓPICOS (ORDENADOS POR FREQUÊNCIA)\")\n",
        "print(\"=\"*60)\n",
        "\n",
        "# DataFrame com informações dos tópicos (Topic, Count, Name)\n",
        "topic_info = topic_model.get_topic_info()\n",
        "\n",
        "# Melhoria na exibição da tabela\n",
        "display(topic_info.style\n",
        "        .background_gradient(subset=['Count'], cmap='Blues')\n",
        "        .set_caption(\"Tópicos identificados pelo BERTopic\"))\n",
        "\n",
        "# --------------------------------------------\n",
        "# 🏷️ MAPEAMENTO DE NOMES PARA TÓPICOS\n",
        "# --------------------------------------------\n",
        "\n",
        "print(\"\\n\" + \"=\"*60)\n",
        "print(\"🔤 PALAVRAS-CHAVE POR TÓPICO\")\n",
        "print(\"=\"*60)\n",
        "\n",
        "# Dicionário de mapeamento (ID tópico → Nome)\n",
        "topic_map = {\n",
        "    row['Topic']: row['Name']\n",
        "    for _, row in topic_info.iterrows()\n",
        "}\n",
        "\n",
        "# Exibe palavras-chave de cada tópico formatadas\n",
        "for topic_id in sorted(topic_info['Topic']):\n",
        "    palavras_chave = topic_model.get_topic(topic_id)\n",
        "\n",
        "    # Formatação melhorada\n",
        "    palavras_formatadas = [\n",
        "        f\"{word} ({score:.2f})\"\n",
        "        for word, score in palavras_chave[:5]  # Top 5 palavras por tópico\n",
        "    ]\n",
        "\n",
        "    print(f\"\\n🔹 Tópico {topic_id} ({topic_map.get(topic_id, 'Outlier')}):\")\n",
        "    print(\"   📌 Principais termos:\", \" | \".join(palavras_formatadas))\n",
        "    print(\"   📊 Documentos:\", topic_info[topic_info['Topic'] == topic_id]['Count'].values[0])\n",
        "\n",
        "# --------------------------------------------\n",
        "# 👀 PRÉVIA DOS DADOS CLASSIFICADOS\n",
        "# --------------------------------------------\n",
        "\n",
        "print(\"\\n\" + \"=\"*60)\n",
        "print(\"📄 AMOSTRA DOS RESULTADOS (5 primeiras e últimas linhas)\")\n",
        "print(\"=\"*60)\n",
        "\n",
        "# Configura pandas para mostrar mais colunas\n",
        "pd.set_option('display.max_columns', None)\n",
        "\n",
        "# Exibe início e fim do DataFrame\n",
        "print(\"\\n⬆️ PRIMEIRAS LINHAS:\")\n",
        "display(df_result.head().style.set_properties(**{\n",
        "    'background-color': '#f8f9fa',\n",
        "    'border': '1px solid #dee2e6'\n",
        "}))\n",
        "\n",
        "print(\"\\n⬇️ ÚLTIMAS LINHAS:\")\n",
        "display(df_result.tail().style.set_properties(**{\n",
        "    'background-color': '#f8f9fa',\n",
        "    'border': '1px solid #dee2e6'\n",
        "}))\n",
        "\n",
        "\n",
        "# Recupera as estatísticas originais do modelo\n",
        "raw_topic_info = topic_model.get_topic_info()\n",
        "\n",
        "# Calcula porcentagens\n",
        "total_raw_docs = raw_topic_info['Count'].sum()\n",
        "raw_topic_info['% do Total'] = (raw_topic_info['Count'] / total_raw_docs * 100).round(1)\n",
        "# EXIBIÇÃO INTERATIVA\n",
        "# --------------------------------------------------\n",
        "\n",
        "print(\"\\n\" + \"=\"*60)\n",
        "print(f\"📈 DISTRIBUIÇÃO DOS {total_raw_docs} DOCUMENTOS\")\n",
        "print(\"=\"*60)\n",
        "display(raw_topic_info[['Topic', 'Name', 'Count', '% do Total']]\n",
        "        .rename(columns={\n",
        "            'Topic': 'ID Tópico',\n",
        "            'Name': 'Palavras-Chave (Auto)',\n",
        "            'Count': '📊 Documentos'\n",
        "        })\n",
        "        .style\n",
        "        .format({'% do Total': '{:.1f}%'})\n",
        "        .bar(subset=['📊 Documentos'], color='#4b8bbe')\n",
        "        .set_caption(\"Distribuição dos Tópicos\"))\n"
      ],
      "metadata": {
        "id": "ECF-bkoI_ME4"
      },
      "execution_count": null,
      "outputs": []
    },
    {
      "cell_type": "markdown",
      "source": [
        "# VERIFICAÇÃO DOS RESULTADOS\n",
        "\n",
        "✅ SE OS RESULTADOS ACIMA ESTIVEREM SATISFATÓRIOS, PROSSIGA PARA AS PRÓXIMAS CÉLULAS.\n",
        "\n",
        "⚠️ CASO CONTRÁRIO, VOLTE À SEÇÃO 'CONFIGURAÇÕES' E AJUSTE:\n",
        "1. CUSTOM_STOP_WORDS: Adicione termos irrelevantes que apareceram\n",
        "2. MIN_TOPIC_SIZE: Aumente para menos tópicos ou diminua para mais detalhado\n",
        "3. MAX_DOC_FREQ: Reduza para filtrar palavras muito frequentes\n",
        "\n",
        "🔄 PROCEDIMENTO:\n",
        "1. Ajuste os parâmetros\n",
        "2. Execute novamente desde o pré-processamento\n",
        "3. Verifique esta visualização novamente\n",
        "\n",
        "🔎 O QUE ANALISAR:\n",
        "1. Tópicos com <5 docs podem ser fundidos ou descartados;\n",
        "2. Outliers (>20%) podem indicar necessidade de ajuste no modelo;\n",
        "3. Palavras-chave repetidas sugerem stopwords faltantes."
      ],
      "metadata": {
        "id": "2OSnEBqw_19n"
      }
    },
    {
      "cell_type": "markdown",
      "source": [
        "# 📊 VISUALIZAÇÕES INTERATIVAS DOS TÓPICOS\n",
        "\n",
        "Esta seção gera 3 tipos de visualizações para ajudar na interpretação dos tópicos:\n",
        "\n",
        "1️⃣ GRÁFICO DE BARRAS - Mostra as palavras mais relevantes de cada tópico\n",
        "2️⃣ MAPA DE DISTÂNCIA - Ilustra como os tópicos se relacionam entre si\n",
        "3️⃣ MATRIZ DE SIMILARIDADE - Mostra o grau de similaridade entre tópicos\n",
        "\n",
        "🔍 Como usar:\n",
        "- Passe o mouse sobre os elementos para ver detalhes\n",
        "- Clique e arraste para explorar os gráficos\n",
        "- Use os menus interativos (quando disponíveis)"
      ],
      "metadata": {
        "id": "S-JJMkfQBDgH"
      }
    },
    {
      "cell_type": "code",
      "source": [
        "# @title 1️⃣ GRÁFICO DE BARRAS - PALAVRAS-CHAVE POR TÓPICO\n",
        "# O que você está vendo:\n",
        "# - Cada barra representa um tópico (exceto outliers -1)\n",
        "# - As palavras são ordenadas por importância (score)\n",
        "# - O comprimento da barra mostra a relevância do termo\n",
        "#\n",
        "# O que observar:\n",
        "# - Se as palavras fazem sentido para o tópico\n",
        "# - Se há termos irrelevantes que deveriam ser stopwords\n",
        "topic_model.visualize_barchart()"
      ],
      "metadata": {
        "id": "dqDpY16fAXTn"
      },
      "execution_count": null,
      "outputs": []
    },
    {
      "cell_type": "code",
      "source": [
        "# @title 2️⃣ MAPA DE DISTÂNCIA - RELAÇÃO ENTRE TÓPICOS\n",
        "# O que você está vendo:\n",
        "# - Cada bolha representa um tópico\n",
        "# - Tópicos próximos são semanticamente similares\n",
        "# - Tamanho da bolha = quantidade de documentos\n",
        "\n",
        "# O que observar:\n",
        "# - Agrupamentos naturais de tópicos\n",
        "# - Tópicos isolados (potencialmente únicos)\n",
        "# - Outliers distantes do núcleo\n",
        "# - Mínimo de 4 tópicos para funcionar\n",
        "topic_model.visualize_topics()"
      ],
      "metadata": {
        "id": "9SApjv5CBTcH"
      },
      "execution_count": null,
      "outputs": []
    },
    {
      "cell_type": "code",
      "source": [
        "# @title 3️⃣ MATRIZ DE SIMILARIDADE - AFINIDADE ENTRE TÓPICOS\n",
        "# O que você está vendo:\n",
        "# - Tabela onde cada célula mostra a similaridade (0-1)\n",
        "# - 1 = tópicos idênticos, 0 = completamente diferentes\n",
        "# - Diagonal principal sempre = 1 (autossimilaridade)\n",
        "\n",
        "# O que observar:\n",
        "# - Tópicos com similaridade > 0.8 (potencial para fusão)\n",
        "# - Tópicos únicos (baixa similaridade com os demais)\n",
        "topic_model.visualize_heatmap()"
      ],
      "metadata": {
        "id": "XcfWxyv7DPS3"
      },
      "execution_count": null,
      "outputs": []
    },
    {
      "cell_type": "markdown",
      "source": [
        "# 🏷️ PERSONALIZAÇÃO DOS NOMES DOS TÓPICOS (OPCIONAL)\n",
        "\n",
        "📌 ETAPA DE NOMEAÇÃO DOS TÓPICOS\n",
        "\n",
        "Aqui você pode atribuir nomes descritivos aos tópicos identificados pelo modelo, substituindo os termos de palavras-chave por rótulos significativos.\n",
        "\n",
        "✏️ COMO USAR:\n",
        "1. Analise as palavras-chave de cada tópico (geradas anteriormente)\n",
        "2. Edite o dicionário abaixo com nomes que representem cada grupo\n",
        "3. Execute a célula para aplicar as mudanças\n",
        "\n",
        "🖍️ EXEMPLO PRÁTICO:\n",
        "Se o tópico 0 tem as palavras: \"aluno, ensino, personalização\",\n",
        "um bom nome seria \"Personalização do Ensino\"\n",
        "\n",
        "⚠️ IMPORTANTE:\n",
        "- Mantenha o tópico -1 como \"Outliers\" (dados não classificados)\n",
        "- Os números devem corresponder aos IDs dos tópicos"
      ],
      "metadata": {
        "id": "r-3YcRzQENNP"
      }
    },
    {
      "cell_type": "code",
      "source": [
        "# Dicionário de mapeamento (ID -> Nome do tópico)\n",
        "labels_map = {\n",
        "    -1: \"Outliers\",                       # Documentos não classificados\n",
        "     0: \"Nome do Tópico 1\",\n",
        "     1: \"Nome do Tópico 2\",\n",
        "     2: \"Nome do Tópico 3\",\n",
        "     3: \"Nome do Tópico 4\",\n",
        "     4: \"Nome do Tópico 5\",\n",
        "}\n",
        "\n",
        "# --------------------------------------------\n",
        "# APLICAÇÃO DOS RÓTULOS (não precisa editar)\n",
        "# --------------------------------------------\n",
        "print(\"✅ Tópicos renomeados com sucesso!\")\n",
        "print(\"\\n📋 Relação de tópicos atualizada:\")\n",
        "for topic_id, topic_name in labels_map.items():\n",
        "    print(f\"Tópico {topic_id}: {topic_name}\")"
      ],
      "metadata": {
        "id": "271HOiaBERMH"
      },
      "execution_count": null,
      "outputs": []
    },
    {
      "cell_type": "markdown",
      "source": [
        "# 📌 RESUMO DOS TÓPICOS RENOMEADOS E VISUALIZAÇÕES\n",
        "\n",
        "As células abaixo geram resumos e visualizações dos tópicos com:\n",
        "- Nomes personalizados dos tópicos (definidos anteriormente)\n",
        "- Contagem de documentos associados a cada tópico\n",
        "- Dados percentuais implícitos (calculados sobre o total)\n",
        "\n",
        "▸ O que você pode analisar:\n",
        "1. Distribuição dos documentos entre tópicos\n",
        "2. Proporção de outliers (tópico -1)\n",
        "3. Tópicos dominantes e minoritários"
      ],
      "metadata": {
        "id": "zpzD_0-vFKW_"
      }
    },
    {
      "cell_type": "code",
      "source": [
        "# Obtém estatísticas brutas do modelo\n",
        "topic_info = topic_model.get_topic_info()\n",
        "# Aplica os nomes personalizados dos tópicos\n",
        "topic_info['Tópico'] = topic_info['Topic'].map(labels_map)\n",
        "# Formata o quadro final de exibição\n",
        "quadro = topic_info.loc[:, ['Tópico', 'Count']].rename(\n",
        "    columns={'Count': 'Quantidade de Documentos'}\n",
        ")\n",
        "# Adiciona coluna de porcentagem\n",
        "total_docs = quadro['Quantidade de Documentos'].sum()\n",
        "quadro['% do Total'] = (quadro['Quantidade de Documentos'] / total_docs * 100).round(1)\n",
        "\n",
        "# EXIBIÇÃO FORMATADA (saída interativa)\n",
        "# --------------------------------------------------\n",
        "print(f\"\\n🔍 Distribuição dos {total_docs} documentos analisados\")\n",
        "print(f\" \")\n",
        "print(f\" \")\n",
        "display(quadro.style\n",
        "        .format({'% do Total': '{:.1f}%'})\n",
        "        .bar(subset=['Quantidade de Documentos'], color='#5fba7d')\n",
        "        .set_caption(\"Frequência de Documentos por Tópico\"))\n"
      ],
      "metadata": {
        "id": "k5OvApueFGVf"
      },
      "execution_count": null,
      "outputs": []
    },
    {
      "cell_type": "code",
      "source": [
        "# Agora vamos fazer um gráfico com a distribuição de itens por tópico\n",
        "\n",
        "# Obter o DataFrame com frequência de tópicos\n",
        "topic_info = topic_model.get_topic_info()\n",
        "# Aplicar os labels\n",
        "topic_info['Label'] = topic_info['Topic'].map(labels_map)\n",
        "# Montar a paleta de cores, reservando cinza para o tópico -1\n",
        "palette = qualitative.Plotly  # ex: ['#636EFA', '#EF553B', '#00CC96', ...]\n",
        "topic_colors = {\n",
        "    -1:    'lightgrey',\n",
        "     0:    palette[0],\n",
        "     1:    palette[1],\n",
        "     2:    palette[2],\n",
        "     3:    palette[3],\n",
        "     4:    palette[4],\n",
        "}\n",
        "# Preparar os dados para o gráfico de pizza\n",
        "sizes  = topic_info['Count']\n",
        "labels = topic_info['Label']\n",
        "colors = [ topic_colors[t] for t in topic_info['Topic'] ]\n",
        "# Desenhar o gráfico\n",
        "fig, ax = plt.subplots(figsize=(8, 8))\n",
        "ax.pie(\n",
        "    sizes,\n",
        "    labels=labels,\n",
        "    colors=colors,\n",
        "    autopct='%1.1f%%',\n",
        "    startangle=90,\n",
        "    textprops={'color':'black'}\n",
        ")\n",
        "ax.axis('equal')  # garante círculo\n",
        "plt.title(\"Distribuição de Itens por Tópico\")\n",
        "plt.show()"
      ],
      "metadata": {
        "id": "bBf2ymEXIg8w"
      },
      "execution_count": null,
      "outputs": []
    },
    {
      "cell_type": "code",
      "source": [
        "# Agora vamos visualizar a matrix de similaridade com os nomes dos topicos que voce atribuiu:\n",
        "topic_model.set_topic_labels(labels_map)\n",
        "# Gerar o bar chart\n",
        "fig = topic_model.visualize_heatmap(custom_labels=True)\n",
        "# Atualizar o título\n",
        "fig.update_layout(\n",
        "    title_text=\"Matriz de Similaridade\",              # o texto que você quiser\n",
        "    # title_x=0.5,                                    # opcional: centraliza horizontalmente\n",
        "    # title_font_size=18                              # opcional: ajusta o tamanho da fonte\n",
        ")\n",
        "# Exibir\n",
        "fig.show()"
      ],
      "metadata": {
        "id": "cZR4v0EnJXBA"
      },
      "execution_count": null,
      "outputs": []
    },
    {
      "cell_type": "code",
      "source": [
        "# Agora vamos visualizar o mapa de distancia entre topicos com os nomes dos topicos que voce sugeriu:\n",
        "from plotly.colors import qualitative\n",
        "topic_model.set_topic_labels(labels_map)\n",
        "# Gerar o gráfico normalmente\n",
        "fig = topic_model.visualize_topics(\n",
        "    custom_labels=True,\n",
        "    width=900,\n",
        "    height=700,\n",
        "    title=\"Mapa de Distância entre Tópicos\"\n",
        ")\n",
        "# Preparar a paleta padrão\n",
        "palette = qualitative.Plotly\n",
        "# Mapear tópico → cor\n",
        "topic_colors = {topic: palette[i] for i, topic in enumerate(labels_map)}\n",
        "# Recolorir e adicione rótulos internos com texto preto\n",
        "scatter = fig.data[0]\n",
        "# Extrair o índice do tópico de cada bolha\n",
        "topics_in_fig = [int(row[0]) for row in scatter.customdata]\n",
        "# Aplicar a cor das bolhas\n",
        "scatter.marker.color = [topic_colors[t] for t in topics_in_fig]\n",
        "# Exibir o texto dentro das bolhas\n",
        "scatter.mode = 'markers+text'\n",
        "scatter.text = [labels_map[t] for t in topics_in_fig]\n",
        "scatter.textposition = 'middle center'\n",
        "# Ajustar fonte do texto\n",
        "scatter.textfont = dict(size=11, color='black')\n",
        "# Mostrar o gráfico\n",
        "fig.show()"
      ],
      "metadata": {
        "id": "GjxThACzJnqg"
      },
      "execution_count": null,
      "outputs": []
    },
    {
      "cell_type": "markdown",
      "source": [
        "# 📊 ENTENDENDO OS SCORES DE PALAVRAS-CHAVE\n",
        "\n",
        "O score (de 0 a 1) representa a importância relativa de cada termo dentro de um tópico, considerando:\n",
        "\n",
        "* FREQUÊNCIA: Quão comum a palavra é no tópico específico\n",
        "* DISTINÇÃO: Quão exclusiva ela é desse tópico (vs outros tópicos)\n",
        "\n",
        "▰ Score 0.9 → Palavra MUITO característica do tópico\n",
        "\n",
        "▰ Score 0.2 → Palavra pouco representativa\n",
        "\n",
        "ANÁLISE PRÁTICA:\n",
        "* Barras mais longas = termos mais definidores do tópico\n",
        "* Compare scores entre palavras do mesmo tópico"
      ],
      "metadata": {
        "id": "9VzrXbhNK67g"
      }
    },
    {
      "cell_type": "code",
      "source": [
        "# Agora vamos plotar o score de palavras por tópico.\n",
        "import math\n",
        "# === CONFIGURAÇÃO FÁCIL ===\n",
        "n_topics = len([k for k in labels_map.keys() if k != -1])  # Exclui outliers (-1)\n",
        "n_top_words  = 5   # quantas palavras principais exibir por tópico\n",
        "n_cols       = 3   # quantas colunas por linha\n",
        "fig_width    = 4   # largura de cada subplot (em polegadas)\n",
        "fig_height   = 4   # altura de cada subplot (em polegadas)\n",
        "title        = \"Score de Palavras por Tópico\"\n",
        "\n",
        "# Montar a paleta padrão e mapear tópico → cor\n",
        "palette = qualitative.Plotly\n",
        "topic_colors = {topic: palette[i] for i, topic in enumerate(labels_map)}\n",
        "# Calcular layout\n",
        "n_rows = math.ceil(n_topics / n_cols)\n",
        "fig, axes = plt.subplots(\n",
        "    n_rows, n_cols,\n",
        "    figsize=(fig_width * n_cols, fig_height * n_rows),\n",
        "    sharex=False\n",
        ")\n",
        "fig.suptitle(title, fontsize=16)\n",
        "axes = axes.flatten()\n",
        "for idx in range(n_topics):\n",
        "    ax = axes[idx]\n",
        "    # Extrair as top n_top_words de cada tópico (já em ordem decrescente)\n",
        "    topic_kw = topic_model.get_topic(idx)[:n_top_words]\n",
        "    words, scores = zip(*topic_kw)\n",
        "    # Plot horizontal e inverte eixo y para maior em cima\n",
        "    ax.barh(words, scores, color=topic_colors[idx])\n",
        "    ax.invert_yaxis()\n",
        "    ax.set_title(labels_map[idx], fontsize=12)\n",
        "    ax.set_xlabel(\"Score\")\n",
        "    ax.grid(axis=\"x\", linestyle=\"--\", alpha=0.5)\n",
        "\n",
        "# Desligar eixos extras se houver\n",
        "for j in range(n_topics, len(axes)):\n",
        "    axes[j].axis('off')\n",
        "\n",
        "plt.tight_layout(rect=[0, 0.03, 1, 0.95])\n",
        "plt.show()"
      ],
      "metadata": {
        "id": "4lrVhb6aKGFv"
      },
      "execution_count": null,
      "outputs": []
    },
    {
      "cell_type": "markdown",
      "source": [
        "# 5️⃣ EXPORTAÇÃO DOS RESULTADOS\n",
        "\n",
        "\n",
        "💾 ETAPA FINAL: EXPORTAR RESULTADOS\n",
        "\n",
        "Aqui você pode salvar os resultados da análise em formatos para:\n",
        "1. Publicação web (HTML interativo)\n",
        "2. Compartilhamento (CSV)\n",
        "\n",
        "Escolha as opções que deseja utilizar:"
      ],
      "metadata": {
        "id": "7CAGEmz2MGWg"
      }
    },
    {
      "cell_type": "code",
      "source": [
        "# @title 🌐 OPÇÃO PARA WEB:\n",
        "# Gera um arquivo HTML com a matriz de similaridade entre tópicos, que pode ser embedado em sites ou compartilhado.\n",
        "\n",
        "# ▸ Como usar:\n",
        "# 1. Execute esta célula\n",
        "# 2. Encontre o arquivo 'topic_heatmap.html' no painel esquerdo\n",
        "# 3. Faça o download ou copie para seu servidor web\n",
        "\n",
        "heatmap_html = topic_model.visualize_heatmap()\n",
        "heatmap_html.write_html(\"topic_heatmap.html\")\n",
        "print(\"✅ HTML interativo salvo como 'topic_heatmap.html'\")\n"
      ],
      "metadata": {
        "id": "ev02NK_JMNe4"
      },
      "execution_count": null,
      "outputs": []
    },
    {
      "cell_type": "code",
      "source": [
        "# @title 📊 EXPORTAÇÃO PARA CSV (ANÁLISE EM PLANILHAS)\n",
        "# --------------------------------------------------\n",
        "\n",
        "# Como usar:\n",
        "# 1. Execute esta célula\n",
        "# 2. Clique no ícone 📁 no menu esquerdo\n",
        "# 3. Localize 'resultado_topics.csv'\n",
        "# 4. Clique em ⋮ → Fazer download\n",
        "# Garante que a coluna Nome_Topico existe e está correta\n",
        "\n",
        "\n",
        "if 'Nome_Topico' not in df_result.columns:\n",
        "    df_result['Nome_Topico'] = df_result['BERtopic'].map(labels_map).fillna(\"Outliers\")\n",
        "else:\n",
        "    # Atualiza apenas os valores faltantes\n",
        "    df_result['Nome_Topico'] = df_result['Nome_Topico'].fillna(\n",
        "        df_result['BERtopic'].map(labels_map).fillna(\"Outliers\")\n",
        "    )\n",
        "\n",
        "# --------------------------------------------------\n",
        "# 2. EXPORTAÇÃO PARA CSV\n",
        "# --------------------------------------------------\n",
        "df_result.to_csv(\n",
        "    'resultado_topics.csv',\n",
        "    index=False,\n",
        "    encoding='utf-8-sig',  # Codificação que preserva acentos\n",
        "    columns=[col for col in df_result.columns if col != 'Unnamed: 0']  # Remove colunas indesejadas\n",
        ")\n",
        "print(\"\\n✅ Dados classificados salvos como 'resultado_topics.csv'\")\n",
        "print(\"   Encoding: UTF-8 com BOM (compatível com Excel)\")"
      ],
      "metadata": {
        "id": "7dlFwXJaMsjw"
      },
      "execution_count": null,
      "outputs": []
    },
    {
      "cell_type": "markdown",
      "source": [
        "BERTopic: Neural topic modeling with a class-based TF-IDF procedure: https://doi.org/10.48550/arXiv.2203.05794"
      ],
      "metadata": {
        "id": "_y2aFd7WTPGw"
      }
    }
  ]
}